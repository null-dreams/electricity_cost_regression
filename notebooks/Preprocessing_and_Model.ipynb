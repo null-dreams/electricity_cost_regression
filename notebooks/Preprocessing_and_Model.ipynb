{
 "cells": [
  {
   "cell_type": "code",
   "execution_count": 28,
   "id": "43bd0a5c",
   "metadata": {},
   "outputs": [],
   "source": [
    "import numpy as np\n",
    "import pandas as pd\n",
    "import matplotlib.pyplot as plt\n",
    "DATA_PATH = '../dataset/electricity_cost_dataset.csv'\n",
    "\n",
    "df = pd.read_csv(DATA_PATH)"
   ]
  },
  {
   "cell_type": "code",
   "execution_count": 29,
   "id": "e5b34930",
   "metadata": {},
   "outputs": [],
   "source": [
    "# Now I will proceed with each structure type seperately\n",
    "df = df.drop(['recycling rate', 'air qality index', 'issue reolution time'], axis=1)\n",
    "\n",
    "res_df = df[df['structure type'] == 'Residential']\n",
    "com_df = df[df['structure type'] == 'Commercial']\n",
    "ind_df = df[df['structure type'] == 'Industrial']\n",
    "mix_df = df[df['structure type'] == 'Mixed-use']\n",
    "\n",
    "res_df = res_df.drop(['structure type'], axis=1)\n",
    "com_df = com_df.drop(['structure type', 'resident count'], axis=1)\n",
    "ind_df = ind_df.drop(['structure type', 'resident count'], axis=1)\n",
    "mix_df = mix_df.drop(['structure type'], axis=1)"
   ]
  },
  {
   "cell_type": "code",
   "execution_count": 30,
   "id": "0d111b8f",
   "metadata": {},
   "outputs": [
    {
     "name": "stdout",
     "output_type": "stream",
     "text": [
      "<class 'pandas.core.frame.DataFrame'>\n",
      "Index: 3939 entries, 3 to 9996\n",
      "Data columns (total 5 columns):\n",
      " #   Column             Non-Null Count  Dtype  \n",
      "---  ------             --------------  -----  \n",
      " 0   site area          3939 non-null   int64  \n",
      " 1   water consumption  3939 non-null   float64\n",
      " 2   utilisation rate   3939 non-null   int64  \n",
      " 3   resident count     3939 non-null   int64  \n",
      " 4   electricity cost   3939 non-null   float64\n",
      "dtypes: float64(2), int64(3)\n",
      "memory usage: 184.6 KB\n"
     ]
    }
   ],
   "source": [
    "res_df.info()"
   ]
  },
  {
   "cell_type": "code",
   "execution_count": null,
   "id": "a87421fb",
   "metadata": {},
   "outputs": [],
   "source": [
    "class LinearRegressionGD:\n",
    "    def __init__(self, learning_rate=0.01, n_iterations=1000):\n",
    "        self.learning_rate = learning_rate\n",
    "        self.n_iterations = n_iterations\n",
    "        self.weights = None\n",
    "        self.bias = None\n",
    "        self.cost_history = []\n",
    "\n",
    "    def fit(self, X, y):\n",
    "        n_samples, n_features = X.shape\n",
    "        y = y.reshape(-1, 1)\n",
    "\n",
    "        # 1. Initializing parameters\n",
    "        self.weights = np.zeros((n_features, 1))\n",
    "        self.bias = 0.0\n",
    "\n",
    "        # 2. Gradient Descent\n",
    "        for i in range(self.n_iterations):\n",
    "            # Calculate predictions\n",
    "            y_pred = X @ self.weights + self.bias\n",
    "\n",
    "            # Calculating cost (MSE)\n",
    "            cost = (1 / (2 * n_samples)) * np.sum((y_pred - y) ** 2)\n",
    "            self.cost_history.append(cost)\n",
    "\n",
    "            # Calculating the gradients\n",
    "            dw = (1 / n_samples) * (X.T @ (y_pred - y))\n",
    "            db = (1 / n_samples) * np.sum(y_pred - y)\n",
    "\n",
    "            # Updating parameters\n",
    "            self.weights -= self.learning_rate * dw\n",
    "            self.bias -= self.learning_rate * db\n",
    "\n",
    "            # Printing cost periodically\n",
    "            if (i+1) % (self.n_iterations // 10) == 0 or i == 0: \n",
    "                print(f\"Iteration {i+1}/{self.n_iterations}, Cost: {cost:.4f}\")\n",
    "\n",
    "    def predict(self, X):\n",
    "        return X @ self.weights + self.bias"
   ]
  },
  {
   "cell_type": "code",
   "execution_count": 32,
   "id": "f9f18584",
   "metadata": {},
   "outputs": [],
   "source": [
    "def normalize(X_raw: pd.DataFrame, X_test: pd.DataFrame, Y_Train: np.ndarray, Y_Test: np.ndarray):\n",
    "    x_min = X_raw.min()\n",
    "    x_max = X_raw.max()\n",
    "\n",
    "    X_train_scaled = (X_raw - x_min) / (x_max - x_min)\n",
    "    X_test_scaled = (X_test - x_min) / (x_max - x_min)\n",
    "\n",
    "    y_min = Y_Train.min()\n",
    "    y_max = Y_Train.max()\n",
    "\n",
    "    Y_train_scaled = (Y_Train - y_min) / (y_max - y_min)\n",
    "    Y_test_scaled = (Y_Test - y_min) / (y_max - y_min)\n",
    "\n",
    "    return X_train_scaled.values, X_test_scaled.values, Y_train_scaled, Y_test_scaled\n",
    "\n",
    "def custom_test_train(df: pd.DataFrame, target_col: str, train_size: float = 0.8, random_state: int = 42):\n",
    "    shuffled_df = df.sample(frac=1, random_state=random_state).reset_index(drop=True)\n",
    "\n",
    "    split_index = int(len(df) * train_size)\n",
    "    df_train = shuffled_df[:split_index]\n",
    "    df_test = shuffled_df[split_index:]\n",
    "\n",
    "    X_train = df_train.drop(target_col, axis=1)\n",
    "    Y_train = df_train[target_col].values.reshape(-1, 1)\n",
    "    X_test = df_test.drop(target_col, axis=1)\n",
    "    Y_test = df_test[target_col].values.reshape(-1, 1)\n",
    "\n",
    "    return normalize(X_train, X_test, Y_train, Y_test)"
   ]
  },
  {
   "cell_type": "code",
   "execution_count": 38,
   "id": "2863d19d",
   "metadata": {},
   "outputs": [
    {
     "name": "stdout",
     "output_type": "stream",
     "text": [
      "Iteration 1/10000, Cost: 0.1082\n",
      "Iteration 1000/10000, Cost: 0.0020\n",
      "Iteration 2000/10000, Cost: 0.0010\n",
      "Iteration 3000/10000, Cost: 0.0008\n",
      "Iteration 4000/10000, Cost: 0.0007\n",
      "Iteration 5000/10000, Cost: 0.0007\n",
      "Iteration 6000/10000, Cost: 0.0006\n",
      "Iteration 7000/10000, Cost: 0.0006\n",
      "Iteration 8000/10000, Cost: 0.0006\n",
      "Iteration 9000/10000, Cost: 0.0006\n",
      "Iteration 10000/10000, Cost: 0.0006\n"
     ]
    },
    {
     "data": {
      "image/png": "[encoded data removed]",
      "text/plain": [
       "<Figure size 800x600 with 1 Axes>"
      ]
     },
     "metadata": {},
     "output_type": "display_data"
    }
   ],
   "source": [
    "x_train, x_test, y_train, y_test = custom_test_train(res_df, 'electricity cost')\n",
    "\n",
    "res_gd = LinearRegressionGD(n_iterations=10000)\n",
    "res_gd.fit(x_train, y_train)\n",
    "\n",
    "y_pred = res_gd.predict(x_test)\n",
    "plt.figure(figsize=(8, 6))\n",
    "plt.plot(range(len(res_gd.cost_history)), res_gd.cost_history)\n",
    "plt.xlabel(\"Iteration\")\n",
    "plt.ylabel(\"Cost (MSE)\")\n",
    "plt.title(\"Gradient Descent Cost History\")\n",
    "plt.grid(True)\n",
    "plt.show()\n"
   ]
  },
  {
   "cell_type": "code",
   "execution_count": 39,
   "id": "b7667b53",
   "metadata": {},
   "outputs": [
    {
     "name": "stdout",
     "output_type": "stream",
     "text": [
      "\n",
      "--- Model Evaluation ---\n",
      "Optimal weight (GD): [0.3668405  0.10506751 0.11716104 0.39321246]\n",
      "Optimal Bias (GD): 0.0412\n",
      "Gradient Descent - MSE: 0.0013, R2: 0.9659117515471627\n"
     ]
    }
   ],
   "source": [
    "def mse(y_true, y_pred):\n",
    "    return np.mean((y_true - y_pred)**2)\n",
    "\n",
    "def r2_score_manual(y_true, y_pred):\n",
    "    ss_res = np.sum((y_true - y_pred)**2)\n",
    "    ss_tot = np.sum((y_true - np.mean(y_true))**2)\n",
    "    if ss_tot == 0:\n",
    "        return 1.0 if ss_res == 0 else 0.0\n",
    "    return 1 - (ss_res / ss_tot)\n",
    "\n",
    "print(\"\\n--- Model Evaluation ---\")\n",
    "mse_gd_val = mse(y_test, y_pred)\n",
    "r2_gd_val = r2_score_manual(y_test, y_pred)\n",
    "print(f\"Optimal weight (GD): {res_gd.weights[:,0]}\")\n",
    "print(f\"Optimal Bias (GD): {res_gd.bias:.4f}\")\n",
    "print(f\"Gradient Descent - MSE: {mse_gd_val:.4f}, R2: {r2_gd_val}\")"
   ]
  }
 ],
 "metadata": {
  "kernelspec": {
   "display_name": "elec_venv",
   "language": "python",
   "name": "python3"
  },
  "language_info": {
   "codemirror_mode": {
    "name": "ipython",
    "version": 3
   },
   "file_extension": ".py",
   "mimetype": "text/x-python",
   "name": "python",
   "nbconvert_exporter": "python",
   "pygments_lexer": "ipython3",
   "version": "3.12.11"
  }
 },
 "nbformat": 4,
 "nbformat_minor": 5
}
