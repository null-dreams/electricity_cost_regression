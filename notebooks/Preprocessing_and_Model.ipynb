{
 "cells": [
  {
   "cell_type": "code",
   "execution_count": 1,
   "id": "43bd0a5c",
   "metadata": {},
   "outputs": [],
   "source": [
    "import numpy as np\n",
    "import pandas as pd\n",
    "DATA_PATH = '../dataset/electricity_cost_dataset.csv'\n",
    "\n",
    "df = pd.read_csv(DATA_PATH)"
   ]
  },
  {
   "cell_type": "code",
   "execution_count": 2,
   "id": "e5b34930",
   "metadata": {},
   "outputs": [],
   "source": [
    "# Now I will proceed with each structure type seperately\n",
    "df = df.drop(['recycling rate', 'air qality index', 'issue reolution time'], axis=1)\n",
    "\n",
    "res_df = df[df['structure type'] == 'Residential']\n",
    "com_df = df[df['structure type'] == 'Commercial']\n",
    "ind_df = df[df['structure type'] == 'Industrial']\n",
    "mix_df = df[df['structure type'] == 'Mixed-use']\n",
    "\n",
    "res_df = res_df.drop(['structure type'], axis=1)\n",
    "com_df = com_df.drop(['structure type', 'resident count'], axis=1)\n",
    "ind_df = ind_df.drop(['structure type', 'resident count'], axis=1)\n",
    "mix_df = mix_df.drop(['structure type'], axis=1)\n",
    "\n",
    "train_size = 0.8\n",
    "test_size = 0.2"
   ]
  },
  {
   "cell_type": "code",
   "execution_count": 3,
   "id": "a87421fb",
   "metadata": {},
   "outputs": [],
   "source": [
    "# Splitting the Residential Dataset\n",
    "\n",
    "# Shuffling the res_df dataset\n",
    "shuffled_res_df = res_df.sample(frac=1, random_state=42).reset_index(drop=True)\n",
    "\n",
    "# Calculating the split index and splitting the data accordingly\n",
    "sp_index = int(len(res_df) * train_size)\n",
    "res_df_train = shuffled_res_df[:sp_index]\n",
    "res_df_test = shuffled_res_df[sp_index:]\n",
    "\n",
    "res_X_train = res_df_train.drop('electricity cost', axis=1)\n",
    "res_Y_train = res_df_train['electricity cost']\n",
    "res_X_test = res_df_test.drop('electricity cost', axis=1)\n",
    "res_Y_test = res_df_test['electricity cost']"
   ]
  }
 ],
 "metadata": {
  "kernelspec": {
   "display_name": "elec_venv",
   "language": "python",
   "name": "python3"
  },
  "language_info": {
   "codemirror_mode": {
    "name": "ipython",
    "version": 3
   },
   "file_extension": ".py",
   "mimetype": "text/x-python",
   "name": "python",
   "nbconvert_exporter": "python",
   "pygments_lexer": "ipython3",
   "version": "3.12.11"
  }
 },
 "nbformat": 4,
 "nbformat_minor": 5
}
